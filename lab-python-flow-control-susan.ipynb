{
 "cells": [
  {
   "cell_type": "markdown",
   "id": "d3bfc191-8885-42ee-b0a0-bbab867c6f9f",
   "metadata": {
    "tags": []
   },
   "source": [
    "# Lab | Flow Control"
   ]
  },
  {
   "cell_type": "markdown",
   "id": "3851fcd1-cf98-4653-9c89-e003b7ec9400",
   "metadata": {},
   "source": [
    "## Exercise: Managing Customer Orders Optimized\n",
    "\n",
    "In the last lab, you were starting an online store that sells various products. To ensure smooth operations, you developed a program that manages customer orders and inventory.\n",
    "\n",
    "You did so without using flow control. Let's go a step further and improve this code.\n",
    "\n",
    "Follow the steps below to complete the exercise:\n",
    "\n",
    "1. Look at your code from the lab data structures, and improve repeated code with loops.\n",
    "\n",
    "2. Instead of asking the user to input the name of three products that a customer wants to order, do the following:\n",
    "    \n",
    "    a. Prompt the user to enter the name of a product that a customer wants to order.\n",
    "    \n",
    "    b. Add the product name to the \"customer_orders\" set.\n",
    "    \n",
    "    c. Ask the user if they want to add another product (yes/no).\n",
    "    \n",
    "    d. Continue the loop until the user does not want to add another product.\n",
    "\n",
    "3. Instead of updating the inventory by subtracting 1 from the quantity of each product, only do it for  the products that were ordered (those in \"customer_orders\")."
   ]
  },
  {
   "cell_type": "code",
   "execution_count": 23,
   "id": "9923e413",
   "metadata": {},
   "outputs": [],
   "source": [
    "products = ['t-shirt', 'mug', 'book', 'keychain']\n",
    "inventory = {'t-shirt': 4, 'mug': 5, 'book': 3, 'keychain': 8}\n",
    "customer_orders = set()"
   ]
  },
  {
   "cell_type": "code",
   "execution_count": 24,
   "id": "889ba3e1",
   "metadata": {},
   "outputs": [
    {
     "name": "stdout",
     "output_type": "stream",
     "text": [
      "Enter the name of the product: mug\n",
      "mug\n",
      "before set()\n",
      "after {'mug'}\n",
      "Would you like to add another product? (yes/no):  yes\n",
      "Enter the name of the product: book\n",
      "book\n",
      "before {'mug'}\n",
      "after {'mug', 'book'}\n",
      "Would you like to add another product? (yes/no):  yes\n",
      "Enter the name of the product: t-shirt\n",
      "t-shirt\n",
      "before {'mug', 'book'}\n",
      "after {'t-shirt', 'mug', 'book'}\n",
      "Would you like to add another product? (yes/no):  yes\n",
      "Enter the name of the product: paper\n",
      "paper\n",
      "before {'t-shirt', 'mug', 'book'}\n",
      "Invalid product name. please enter a valid product name from the list.\n",
      "Enter the name of the product: mug\n",
      "mug\n",
      "before {'t-shirt', 'mug', 'book'}\n",
      "after {'t-shirt', 'mug', 'book'}\n",
      "Would you like to add another product? (yes/no):  no\n",
      "Done with the loop.\n",
      "{'t-shirt', 'mug', 'book'}\n",
      "updated inventory dictionary: {'t-shirt': 3, 'mug': 4, 'book': 2, 'keychain': 7}\n"
     ]
    }
   ],
   "source": [
    "\n",
    "while True:\n",
    "    product = input (\"Enter the name of the product: \")\n",
    "    if  product == \"done\":\n",
    "        break\n",
    "    print (product)\n",
    "    print (\"before\", customer_orders)\n",
    "    if product in products:\n",
    "        customer_orders.add(product)\n",
    "        print (\"after\", customer_orders)\n",
    "    else:\n",
    "        print (\"Invalid product name. please enter a valid product name from the list.\")\n",
    "        continue\n",
    "\n",
    "    another_product = input(\"Would you like to add another product? (yes/no):  \")\n",
    "        \n",
    "    if another_product.lower() != \"yes\":\n",
    "        print(\"Done with the loop.\")\n",
    "        break\n",
    "print(customer_orders)\n",
    "\n",
    "\n",
    "for product in products:\n",
    "    if product in inventory:\n",
    "        inventory[product] -= 1\n",
    "print(\"updated inventory dictionary:\", inventory)\n",
    "        "
   ]
  }
 ],
 "metadata": {
  "kernelspec": {
   "display_name": "Python 3 (ipykernel)",
   "language": "python",
   "name": "python3"
  },
  "language_info": {
   "codemirror_mode": {
    "name": "ipython",
    "version": 3
   },
   "file_extension": ".py",
   "mimetype": "text/x-python",
   "name": "python",
   "nbconvert_exporter": "python",
   "pygments_lexer": "ipython3",
   "version": "3.9.13"
  }
 },
 "nbformat": 4,
 "nbformat_minor": 5
}
